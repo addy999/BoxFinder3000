{
 "cells": [
  {
   "cell_type": "markdown",
   "metadata": {},
   "source": [
    "# Create matrix"
   ]
  },
  {
   "cell_type": "code",
   "execution_count": 1,
   "metadata": {},
   "outputs": [],
   "source": [
    "import numpy as np\n",
    "import os, sys\n",
    "# sys.path.append(\"../Python\")\n",
    "sys.path.append(\"Software/Python\")\n",
    "\n",
    "from localization import *"
   ]
  },
  {
   "cell_type": "code",
   "execution_count": 2,
   "metadata": {},
   "outputs": [],
   "source": [
    "maze = createMaze()"
   ]
  },
  {
   "cell_type": "code",
   "execution_count": 3,
   "metadata": {},
   "outputs": [
    {
     "data": {
      "text/plain": "(98, 50)"
     },
     "execution_count": 3,
     "metadata": {},
     "output_type": "execute_result"
    }
   ],
   "source": [
    "maze.shape"
   ]
  },
  {
   "cell_type": "code",
   "execution_count": 4,
   "metadata": {},
   "outputs": [
    {
     "data": {
      "text/plain": "{'front': 38.0,\n 'left': 2.0,\n 'right': 2.0,\n 'back': 3.0,\n 'front-left': 15.652475842498529,\n 'front-right': 15.652475842498529}"
     },
     "execution_count": 4,
     "metadata": {},
     "output_type": "execute_result"
    }
   ],
   "source": [
    "createSensorMatrixBlock(maze, getSensors(), (2,0))"
   ]
  },
  {
   "cell_type": "code",
   "execution_count": 5,
   "metadata": {},
   "outputs": [],
   "source": [
    "sensor_matrix = createSensorMatrix(maze, getSensors())"
   ]
  },
  {
   "cell_type": "code",
   "execution_count": 6,
   "metadata": {},
   "outputs": [
    {
     "data": {
      "text/plain": "{'front': 26.0,\n 'left': 3.0,\n 'right': 50.0,\n 'back': 15.0,\n 'front-left': 6.708203932499369,\n 'front-right': 4.47213595499958}"
     },
     "execution_count": 6,
     "metadata": {},
     "output_type": "execute_result"
    }
   ],
   "source": [
    "sensor_matrix[0,1]"
   ]
  },
  {
   "cell_type": "code",
   "execution_count": 7,
   "metadata": {},
   "outputs": [
    {
     "data": {
      "text/plain": "(0, 0)"
     },
     "execution_count": 7,
     "metadata": {},
     "output_type": "execute_result"
    }
   ],
   "source": [
    "findMatch(sensor_matrix, sensor_matrix[0,0])"
   ]
  },
  {
   "cell_type": "code",
   "execution_count": 8,
   "metadata": {},
   "outputs": [
    {
     "data": {
      "text/plain": "(4, 0)"
     },
     "execution_count": 8,
     "metadata": {},
     "output_type": "execute_result"
    }
   ],
   "source": [
    "findMatch(sensor_matrix, sensor_matrix[4,0])"
   ]
  },
  {
   "cell_type": "code",
   "execution_count": 9,
   "metadata": {},
   "outputs": [],
   "source": [
    "def addNoise(sensor_data, inches = 2):\n",
    "    sensor_data = {a:b+inches*np.random.random() for a,b in sensor_data.items()}\n",
    "\n",
    "    return sensor_data"
   ]
  },
  {
   "cell_type": "code",
   "execution_count": 0,
   "metadata": {},
   "outputs": [],
   "source": [
    "sensor_matrix[0,1]"
   ]
  },
  {
   "cell_type": "code",
   "execution_count": 0,
   "metadata": {},
   "outputs": [],
   "source": [
    "addNoise(sensor_matrix[0,1], inches=6)"
   ]
  },
  {
   "cell_type": "code",
   "execution_count": 0,
   "metadata": {},
   "outputs": [],
   "source": [
    "findMatch(sensor_matrix, addNoise(sensor_matrix[0,1], inches=6))"
   ]
  },
  {
   "cell_type": "code",
   "execution_count": 0,
   "metadata": {},
   "outputs": [],
   "source": [
    "%time findMatch(sensor_matrix, addNoise(sensor_matrix[4,1], 10))"
   ]
  },
  {
   "cell_type": "code",
   "execution_count": 0,
   "metadata": {},
   "outputs": [],
   "source": [
    "## Test duplicates"
   ]
  },
  {
   "cell_type": "code",
   "execution_count": 0,
   "metadata": {},
   "outputs": [],
   "source": [
    "# %%time\n",
    "\n",
    "unfound = []\n",
    "for col in range(sensor_matrix.shape[0]):\n",
    "    for row in range(sensor_matrix.shape[1]):\n",
    "        if sensor_matrix[col, row]:\n",
    "            predicted_block = findMatch(sensor_matrix, addNoise(sensor_matrix[col, row], 0))\n",
    "\n",
    "            if predicted_block != (col,row):\n",
    "                unfound.append(predicted_block)\n",
    "                print(\"Testing\", [col, row], \"Got\", predicted_block)\n",
    "                print(\"Expected\", sensor_matrix[col, row], \"\\nGot\", sensor_matrix[predicted_block])\n",
    "                print(\"****************\")\n",
    "\n",
    "print('Mismatched %', 100 * len(unfound)/sensor_matrix.size)"
   ]
  },
  {
   "cell_type": "code",
   "execution_count": null,
   "metadata": {},
   "outputs": [],
   "source": []
  }
 ],
 "metadata": {
  "kernelspec": {
   "display_name": "Python 3",
   "language": "python",
   "name": "python3"
  },
  "language_info": {
   "codemirror_mode": {
    "name": "ipython",
    "version": 3
   },
   "file_extension": ".py",
   "mimetype": "text/x-python",
   "name": "python",
   "nbconvert_exporter": "python",
   "pygments_lexer": "ipython3",
   "version": "3.7.4"
  }
 },
 "nbformat": 4,
 "nbformat_minor": 2
}