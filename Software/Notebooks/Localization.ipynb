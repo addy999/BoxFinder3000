{
 "cells": [
  {
   "cell_type": "markdown",
   "metadata": {},
   "source": [
    "# Create matrix"
   ]
  },
  {
   "cell_type": "code",
   "execution_count": 1,
   "metadata": {},
   "outputs": [],
   "source": [
    "import numpy as np\n",
    "import os, sys\n",
    "# sys.path.append(\"../Python\")\n",
    "sys.path.append(\"Software/Python\")\n",
    "\n",
    "from localization import *"
   ]
  },
  {
   "cell_type": "code",
   "execution_count": 2,
   "metadata": {},
   "outputs": [],
   "source": [
    "maze = createMaze()"
   ]
  },
  {
   "cell_type": "code",
   "execution_count": 3,
   "metadata": {},
   "outputs": [
    {
     "data": {
      "text/plain": "(98, 50)"
     },
     "execution_count": 3,
     "metadata": {},
     "output_type": "execute_result"
    }
   ],
   "source": [
    "maze.shape"
   ]
  },
  {
   "cell_type": "code",
   "execution_count": 9,
   "metadata": {},
   "outputs": [
    {
     "name": "stdout",
     "output_type": "stream",
     "text": "(0, 1)\nMismatched % 0.0\n(0, -1)\nTesting [2, 0] Got (0, 0)\nExpected {'front': 3.0, 'left': 2.0, 'right': 2.0, 'back': 38.0, 'front-left': 4.47213595499958, 'front-right': 4.47213595499958} \nGot {'front': 3.0, 'left': 2.0, 'right': 3.0, 'back': 38.0, 'front-left': 4.47213595499958, 'front-right': 4.47213595499958}\n****************\nMismatched % 3.125\n(1, 0)\nTesting [2, 0] Got (0, 0)\nExpected {'front': 2.0, 'left': 38.0, 'right': 3.0, 'back': 2.0, 'front-left': 2.23606797749979, 'front-right': 2.23606797749979} \nGot {'front': 2.0, 'left': 38.0, 'right': 3.0, 'back': 3.0, 'front-left': 2.23606797749979, 'front-right': 2.23606797749979}\n****************\nTesting [7, 2] Got (0, 2)\nExpected {'front': 2.0, 'left': 14.0, 'right': 27.0, 'back': 2.0, 'front-left': 2.23606797749979, 'front-right': 2.23606797749979} \nGot {'front': 2.0, 'left': 14.0, 'right': 27.0, 'back': 3.0, 'front-left': 2.23606797749979, 'front-right': 2.23606797749979}\n****************\nMismatched % 6.25\n(-1, 0)\nTesting [7, 2] Got (0, 2)\nExpected {'front': 2.0, 'left': 27.0, 'right': 14.0, 'back': 2.0, 'front-left': 2.23606797749979, 'front-right': 2.23606797749979} \nGot {'front': 3.0, 'left': 27.0, 'right': 14.0, 'back': 2.0, 'front-left': 4.47213595499958, 'front-right': 4.47213595499958}\n****************\nMismatched % 3.125\nWall time: 157 ms\n"
    }
   ],
   "source": [
    "%%time\n",
    "matrices = {\n",
    "    (0,1) : None,\n",
    "    (0,-1) : None,\n",
    "    (1,0) : None,\n",
    "    (-1,0) : None\n",
    "}\n",
    "\n",
    "for direction in matrices:\n",
    "    print(direction)\n",
    "    matrices[direction] = createSensorMatrix(maze, getSensors(direction))\n",
    "    findDuplicates(matrices[direction])\n",
    "    \n"
   ]
  },
  {
   "cell_type": "code",
   "execution_count": null,
   "metadata": {},
   "outputs": [],
   "source": []
  }
 ],
 "metadata": {
  "kernelspec": {
   "display_name": "Python 3",
   "language": "python",
   "name": "python3"
  },
  "language_info": {
   "codemirror_mode": {
    "name": "ipython",
    "version": 3
   },
   "file_extension": ".py",
   "mimetype": "text/x-python",
   "name": "python",
   "nbconvert_exporter": "python",
   "pygments_lexer": "ipython3",
   "version": "3.7.4"
  }
 },
 "nbformat": 4,
 "nbformat_minor": 2
}