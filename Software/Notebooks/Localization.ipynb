{
 "cells": [
  {
   "cell_type": "markdown",
   "metadata": {},
   "source": [
    "# Create matrix"
   ]
  },
  {
   "cell_type": "code",
   "execution_count": 1,
   "metadata": {},
   "outputs": [],
   "source": [
    "import numpy as np\n",
    "import os, sys\n",
    "# sys.path.append(\"../Python\")\n",
    "sys.path.append(\"Software/Python\")\n",
    "\n",
    "from localization import *"
   ]
  },
  {
   "cell_type": "code",
   "execution_count": 2,
   "metadata": {},
   "outputs": [],
   "source": [
    "matrix=matrices[(0,1)][0]"
   ]
  },
  {
   "cell_type": "code",
   "execution_count": 9,
   "metadata": {},
   "outputs": [
    {
     "data": {
      "text/plain": "[(1, 1), (4, 3), (3, 1), (6, 3)]"
     },
     "execution_count": 9,
     "metadata": {},
     "output_type": "execute_result"
    }
   ],
   "source": [
    "findDuplicates(matrix, 6)"
   ]
  },
  {
   "cell_type": "code",
   "execution_count": 5,
   "metadata": {},
   "outputs": [
    {
     "data": {
      "text/plain": "{'front': 14.0,\n 'left': 3.0,\n 'right': 2.0,\n 'back': 27.0,\n 'front-left': 6.708203932499369,\n 'front-right': 4.47213595499958}"
     },
     "execution_count": 5,
     "metadata": {},
     "output_type": "execute_result"
    }
   ],
   "source": [
    "matrix[(0,2)]"
   ]
  },
  {
   "cell_type": "code",
   "execution_count": 6,
   "metadata": {},
   "outputs": [
    {
     "data": {
      "text/plain": "{'front': 15.0,\n 'left': 4.0,\n 'right': 3.0,\n 'back': 28.0,\n 'front-left': 7.708203932499369,\n 'front-right': 5.47213595499958}"
     },
     "execution_count": 6,
     "metadata": {},
     "output_type": "execute_result"
    }
   ],
   "source": [
    "addNoise(matrix[(0,2)], 1)"
   ]
  },
  {
   "cell_type": "code",
   "execution_count": 7,
   "metadata": {},
   "outputs": [],
   "source": [
    "squares_to_avoid = []\n",
    "for direction in matrices:\n",
    "    squares_to_avoid += matrices[direction][1]\n",
    "squares_to_avoid = np.unique(np.array(squares_to_avoid), axis=0)"
   ]
  },
  {
   "cell_type": "code",
   "execution_count": 8,
   "metadata": {},
   "outputs": [
    {
     "data": {
      "text/plain": "array([[0, 0],\n       [0, 2],\n       [2, 0],\n       [2, 2],\n       [7, 2]])"
     },
     "execution_count": 8,
     "metadata": {},
     "output_type": "execute_result"
    }
   ],
   "source": [
    "squares_to_avoid"
   ]
  },
  {
   "cell_type": "code",
   "execution_count": 8,
   "metadata": {},
   "outputs": [
    {
     "data": {
      "text/plain": "(0, 1)"
     },
     "execution_count": 8,
     "metadata": {},
     "output_type": "execute_result"
    }
   ],
   "source": [
    "findSquare((0,1), matrices[(0,1)][0][0,1])"
   ]
  },
  {
   "cell_type": "code",
   "execution_count": 6,
   "metadata": {},
   "outputs": [
    {
     "data": {
      "text/plain": "array([[0, 0],\n       [0, 2],\n       [2, 0],\n       [2, 2],\n       [7, 2]])"
     },
     "execution_count": 6,
     "metadata": {},
     "output_type": "execute_result"
    }
   ],
   "source": [
    "squares_to_avoid"
   ]
  },
  {
   "cell_type": "code",
   "execution_count": 7,
   "metadata": {},
   "outputs": [
    {
     "data": {
      "text/plain": "False"
     },
     "execution_count": 7,
     "metadata": {},
     "output_type": "execute_result"
    }
   ],
   "source": [
    "[0,1] in list([list(block) for block in squares_to_avoid])"
   ]
  },
  {
   "cell_type": "code",
   "execution_count": 9,
   "metadata": {},
   "outputs": [
    {
     "name": "stdout",
     "output_type": "stream",
     "text": "Failed facing  (0, 1) @  1 1 Predicted (3, 1) facing (0, -1)\nFailed facing  (0, 1) @  3 1 Predicted (1, 1) facing (0, -1)\nFailed facing  (0, -1) @  3 3 Predicted (6, 3) facing (0, 1)\nFailed facing  (0, -1) @  6 3 Predicted (3, 3) facing (0, 1)\n"
    }
   ],
   "source": [
    "for direction in matrices:\n",
    "    sensor_matrix = matrices[direction][0]\n",
    "    for col in range(sensor_matrix.shape[0]):\n",
    "        for row in range(sensor_matrix.shape[1]):\n",
    "            if [col,row] not in list([list(block) for block in squares_to_avoid])and sensor_matrix[col, row]:\n",
    "                # Fluff up true data at this col,row\n",
    "                sensor_data_to_check = addNoise(sensor_matrix[col, row], 3)\n",
    "\n",
    "                # go through each direction and find a match\n",
    "                predicted_positions = []\n",
    "                predicted_distances = []\n",
    "                for direc in matrices:\n",
    "                    result = findSquare(direc, sensor_data_to_check, debug=True)\n",
    "                    dsit = 1e6\n",
    "                    pos = None\n",
    "                    if result:\n",
    "                        pos, dist = result\n",
    "                    \n",
    "                    predicted_distances.append(dist)\n",
    "                    predicted_positions.append(pos)\n",
    "                \n",
    "                min_dist = min(predicted_distances)\n",
    "                pos_prediction = predicted_positions[predicted_distances.index(min_dist)]\n",
    "\n",
    "                if pos_prediction != (col, row):\n",
    "                    print(\"Failed facing \", direction, \"@ \", col, row, \"Predicted\", pos_prediction, \"facing\", list(matrices.keys())[predicted_distances.index(min_dist)])\n",
    "            # else:\n",
    "            #     print(col,row)\n"
   ]
  },
  {
   "cell_type": "code",
   "execution_count": null,
   "metadata": {},
   "outputs": [],
   "source": []
  }
 ],
 "metadata": {
  "kernelspec": {
   "display_name": "Python 3",
   "language": "python",
   "name": "python3"
  },
  "language_info": {
   "codemirror_mode": {
    "name": "ipython",
    "version": 3
   },
   "file_extension": ".py",
   "mimetype": "text/x-python",
   "name": "python",
   "nbconvert_exporter": "python",
   "pygments_lexer": "ipython3",
   "version": "3.7.4"
  }
 },
 "nbformat": 4,
 "nbformat_minor": 2
}