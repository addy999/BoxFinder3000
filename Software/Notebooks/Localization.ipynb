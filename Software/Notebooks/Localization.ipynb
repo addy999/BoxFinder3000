{
 "cells": [
  {
   "cell_type": "markdown",
   "metadata": {},
   "source": [
    "# Create matrix"
   ]
  },
  {
   "cell_type": "code",
   "execution_count": 1,
   "metadata": {},
   "outputs": [],
   "source": [
    "import numpy as np\n",
    "import os, sys\n",
    "sys.path.append(\"../Python\")\n",
    "\n",
    "from localization import *"
   ]
  },
  {
   "cell_type": "code",
   "execution_count": 2,
   "metadata": {},
   "outputs": [],
   "source": [
    "step = 6\n",
    "matrix, sensor_distances = createMatrix(step)"
   ]
  },
  {
   "cell_type": "code",
   "execution_count": 3,
   "metadata": {},
   "outputs": [
    {
     "data": {
      "text/plain": [
       "(16, 8)"
      ]
     },
     "execution_count": 3,
     "metadata": {},
     "output_type": "execute_result"
    }
   ],
   "source": [
    "sensor_distances.shape"
   ]
  },
  {
   "cell_type": "markdown",
   "metadata": {},
   "source": [
    "## Test duplicates"
   ]
  },
  {
   "cell_type": "code",
   "execution_count": 4,
   "metadata": {},
   "outputs": [
    {
     "data": {
      "text/html": [
       "<img src=\"./maze.png\" width=\"400\"/>"
      ],
      "text/plain": [
       "<IPython.core.display.Image object>"
      ]
     },
     "execution_count": 4,
     "metadata": {},
     "output_type": "execute_result"
    }
   ],
   "source": [
    "from IPython.display import Image\n",
    "from IPython.core.display import HTML \n",
    "Image(url= \"./maze.png\" ,width=400)"
   ]
  },
  {
   "cell_type": "code",
   "execution_count": 8,
   "metadata": {
    "scrolled": false
   },
   "outputs": [
    {
     "name": "stdout",
     "output_type": "stream",
     "text": [
      "Testing [90, 24] Got [30, 24]\n",
      "Expected {'front': 24.0, 'left': 6.0, 'right': 6.0, 'back': 30.0, 'front-left': 8.485281374238571, 'front-right': 8.485281374238571} \n",
      "Got {'front': 24.0, 'left': 6.0, 'right': 6.0, 'back': 30.0, 'front-left': 8.485281374238571, 'front-right': 8.485281374238571}\n",
      "Diff 0.0\n",
      "****************\n",
      "Testing [90, 30] Got [30, 30]\n",
      "Expected {'front': 18.0, 'left': 6.0, 'right': 6.0, 'back': 36.0, 'front-left': 8.485281374238571, 'front-right': 8.485281374238571} \n",
      "Got {'front': 18.0, 'left': 6.0, 'right': 6.0, 'back': 36.0, 'front-left': 8.485281374238571, 'front-right': 8.485281374238571}\n",
      "Diff 0.0\n",
      "****************\n",
      "Mismatched % 1.5625\n",
      "Wall time: 138 ms\n"
     ]
    }
   ],
   "source": [
    "%%time\n",
    "max_offset = 0 #inches\n",
    "threshold = 0 #inches\n",
    "\n",
    "duplicate_locations = []\n",
    "unfound = []\n",
    "for row in range(sensor_distances.shape[0]):\n",
    "    for col in range(sensor_distances.shape[1]):\n",
    "        if matrix[row+1, col+1] == 1:\n",
    "            pass\n",
    "        else:\n",
    "            \n",
    "            test_data = sensor_distances[row, col]\n",
    "            random_offset = max_offset * np.random.random()\n",
    "            test_data_rounded = {a:b+random_offset for a,b in test_data.items()}\n",
    "\n",
    "            # Method 1\n",
    "    #         matches = findMatches(sensor_distances, test_data_rounded, threshold)\n",
    "    #         n_matches = len(matches)\n",
    "    #         if n_matches > 1:\n",
    "    #             duplicate_locations.append(n_matches)\n",
    "    #         if (row,col) not in matches:\n",
    "    #             unfound.append((row,col))\n",
    "\n",
    "            # Method 2\n",
    "            dist, pos = findMatch(sensor_distances, test_data_rounded)\n",
    "            if pos != (row,col):\n",
    "                unfound.append(pos)\n",
    "                print(\"Testing\", [row*step,col*step], \"Got\", [i*step for i in pos])\n",
    "                print(\"Expected\", sensor_distances[row,col], \"\\nGot\", sensor_distances[pos])\n",
    "                print(\"Diff\", dist)\n",
    "                print(\"****************\")\n",
    "\n",
    "\n",
    "if duplicate_locations:\n",
    "    print('Duplicate %', 100 * len(duplicate_locations)/sensor_distances.size) \n",
    "print('Mismatched %', 100 * len(unfound)/sensor_distances.size)"
   ]
  },
  {
   "cell_type": "code",
   "execution_count": 15,
   "metadata": {},
   "outputs": [
    {
     "data": {
      "text/plain": [
       "array([1., 0., 0., 1., 1., 1., 1., 1., 0., 1.])"
      ]
     },
     "execution_count": 15,
     "metadata": {},
     "output_type": "execute_result"
    }
   ],
   "source": [
    "matrix[13]"
   ]
  }
 ],
 "metadata": {
  "kernelspec": {
   "display_name": "Python 3",
   "language": "python",
   "name": "python3"
  },
  "language_info": {
   "codemirror_mode": {
    "name": "ipython",
    "version": 3
   },
   "file_extension": ".py",
   "mimetype": "text/x-python",
   "name": "python",
   "nbconvert_exporter": "python",
   "pygments_lexer": "ipython3",
   "version": "3.7.4"
  }
 },
 "nbformat": 4,
 "nbformat_minor": 2
}
