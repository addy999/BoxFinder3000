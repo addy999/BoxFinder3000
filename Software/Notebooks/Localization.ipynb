{
 "cells": [
  {
   "cell_type": "markdown",
   "metadata": {},
   "source": [
    "# Create matrix"
   ]
  },
  {
   "cell_type": "code",
   "execution_count": 1,
   "metadata": {},
   "outputs": [],
   "source": [
    "import numpy as np\n",
    "import os, sys\n",
    "# sys.path.append(\"../Python\")\n",
    "sys.path.append(\"Software/Python\")\n",
    "\n",
    "from localization import *"
   ]
  },
  {
   "cell_type": "code",
   "execution_count": 0,
   "metadata": {},
   "outputs": [],
   "source": [
    "r1={'front': 15.9, 'left': 2.5, 'right': 2.5, 'front-left': 4, 'front-right': 4, 'back': 25.1}\n",
    "r2={'front': 26.9, 'left': 15.6, 'right': 27.0, 'front-left': 4, 'front-right': 4, 'back': 13.7}\n",
    "findSqDirectionMultiReadings(r1, r2)"
   ]
  },
  {
   "cell_type": "code",
   "execution_count": 3,
   "metadata": {},
   "outputs": [
    {
     "data": {
      "text/plain": "((0, 2), (2, 2), (7, 2))"
     },
     "execution_count": 3,
     "metadata": {},
     "output_type": "execute_result"
    }
   ],
   "source": [
    "findMatches(matrices[0,1][0], r1)"
   ]
  }
 ],
 "metadata": {
  "kernelspec": {
   "display_name": "Python 3",
   "language": "python",
   "name": "python3"
  },
  "language_info": {
   "codemirror_mode": {
    "name": "ipython",
    "version": 3
   },
   "file_extension": ".py",
   "mimetype": "text/x-python",
   "name": "python",
   "nbconvert_exporter": "python",
   "pygments_lexer": "ipython3",
   "version": "3.7.4"
  }
 },
 "nbformat": 4,
 "nbformat_minor": 2
}