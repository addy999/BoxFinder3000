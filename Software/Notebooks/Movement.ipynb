{
 "cells": [
  {
   "cell_type": "code",
   "execution_count": 14,
   "metadata": {},
   "outputs": [],
   "source": [
    "def moveRobot(wheel1_vel, wheel2_vel, wheel3_vel):\n",
    "\n",
    "        '''\n",
    "        Left, back, right\n",
    "        Omni directional movement derived from \n",
    "        https://www.researchgate.net/publication/256089847_Dynamical_Models_for_Omni-directional_Robots_with_3_and_4_Wheels\n",
    "\n",
    "        Args:\n",
    "        - wheel1/2/3_vel = float, Velocity [cm/s]\n",
    "        - dist_from_center = float, Distance of wheel hub from robot COG [cm]\n",
    "        \n",
    "        Returns:\n",
    "        - v: float, Forward velocity [cm/s]\n",
    "        - vn: float, Left velocity [cm/s]\n",
    "        - w: float, Angular velocity [rad/s]\n",
    "\n",
    "        Assumes\n",
    "        - Constant wheel_sep_angle of 120.0 deg\n",
    "        - Equal dist_from_center for each motor/wheel\n",
    "        '''\n",
    "\n",
    "        v =  (3**0.5/3) * (wheel3_vel-wheel1_vel) * 100\n",
    "        vn = ((wheel3_vel+wheel1_vel)/3 - wheel2_vel*2/3) * 100\n",
    "        w = (wheel1_vel+wheel2_vel+wheel3_vel) / (3*13)\n",
    "\n",
    "        return v, vn, w "
   ]
  },
  {
   "cell_type": "code",
   "execution_count": 29,
   "metadata": {},
   "outputs": [
    {
     "name": "stdout",
     "output_type": "stream",
     "text": [
      "left, back, right [0.99961509 1.00076894 0.99961509]\n"
     ]
    }
   ],
   "source": [
    "from scipy.optimize import minimize\n",
    "\n",
    "def fwd_objective(s):\n",
    "    v, vn, w = moveRobot(s[0], s[1], s[2])\n",
    "    return abs(vn + w)\n",
    "\n",
    "sol = minimize(fwd_objective, x0=[1,1,1])\n",
    "print('left, back, right', sol.x)"
   ]
  },
  {
   "cell_type": "code",
   "execution_count": 26,
   "metadata": {},
   "outputs": [
    {
     "name": "stdout",
     "output_type": "stream",
     "text": [
      "left, back, right [ 4.61205994e+08  0.00000000e+00 -4.61205276e+08]\n"
     ]
    }
   ],
   "source": [
    "def bwd_objective(s):\n",
    "    v, vn, w = moveRobot(s[0], s[1], s[2])\n",
    "    return v\n",
    "\n",
    "sol = minimize(bwd_objective, x0=[0,0,0])\n",
    "print('left, back, right', sol.x)"
   ]
  },
  {
   "cell_type": "code",
   "execution_count": 35,
   "metadata": {},
   "outputs": [
    {
     "name": "stdout",
     "output_type": "stream",
     "text": [
      "left, back, right [1. 1. 1.]\n"
     ]
    }
   ],
   "source": [
    "def left_objective(s):\n",
    "    v, vn, w = moveRobot(s[0], s[1], s[2])\n",
    "    return abs(v*w)\n",
    "\n",
    "sol = minimize(left_objective, x0=[1,1,1])\n",
    "print('left, back, right', sol.x)"
   ]
  },
  {
   "cell_type": "code",
   "execution_count": null,
   "metadata": {},
   "outputs": [],
   "source": []
  }
 ],
 "metadata": {
  "kernelspec": {
   "display_name": "Python 3",
   "language": "python",
   "name": "python3"
  },
  "language_info": {
   "codemirror_mode": {
    "name": "ipython",
    "version": 3
   },
   "file_extension": ".py",
   "mimetype": "text/x-python",
   "name": "python",
   "nbconvert_exporter": "python",
   "pygments_lexer": "ipython3",
   "version": "3.7.4"
  },
  "toc": {
   "base_numbering": 1,
   "nav_menu": {},
   "number_sections": true,
   "sideBar": true,
   "skip_h1_title": false,
   "title_cell": "Table of Contents",
   "title_sidebar": "Contents",
   "toc_cell": false,
   "toc_position": {},
   "toc_section_display": true,
   "toc_window_display": false
  }
 },
 "nbformat": 4,
 "nbformat_minor": 2
}
