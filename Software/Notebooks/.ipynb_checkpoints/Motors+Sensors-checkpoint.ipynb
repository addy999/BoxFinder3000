{
 "cells": [
  {
   "cell_type": "code",
   "execution_count": 9,
   "metadata": {},
   "outputs": [],
   "source": [
    "%matplotlib inline\n",
    "from matplotlib import pyplot as plot\n",
    "from matplotlib import figure \n",
    "import numpy as np\n",
    "import math"
   ]
  },
  {
   "cell_type": "markdown",
   "metadata": {},
   "source": [
    "# Maze"
   ]
  },
  {
   "cell_type": "markdown",
   "metadata": {},
   "source": [
    "### Distance Units: cm"
   ]
  },
  {
   "cell_type": "code",
   "execution_count": 3,
   "metadata": {},
   "outputs": [],
   "source": [
    "class Block:\n",
    "    \n",
    "    def __init__(self, bottom_left, bottom_right, top_right, top_left):\n",
    "        self.points = [\n",
    "            bottom_left,\n",
    "            bottom_right,\n",
    "            top_right,\n",
    "            top_left,\n",
    "            bottom_left\n",
    "        ]\n",
    "    \n",
    "    def intersects(self, other_block):\n",
    "\n",
    "        if min(self.getX()) > max(other_block.getX()) or max(self.getX()) < min(other_block.getX()):\n",
    "            return False\n",
    "\n",
    "        if min(self.getY()) > max(other_block.getY()) or max(self.getY()) < min(other_block.getY()):\n",
    "            return False\n",
    "\n",
    "        else:\n",
    "            return True        \n",
    "    \n",
    "    def getX(self):\n",
    "        \n",
    "        return [p[0] for p in self.points]\n",
    "    \n",
    "    def getY(self):\n",
    "        \n",
    "        return [p[1] for p in self.points]\n",
    "        \n",
    "class Maze:\n",
    "    \n",
    "    def __init__(self, size = (10,10), blocks = [], robot = None):\n",
    "        \n",
    "        self.size = size\n",
    "        self.aspect_ratio = self.size[1] / self.size[0]\n",
    "        self.blocks = blocks\n",
    "        self.robot = robot\n",
    "        self._createMazeWalls()\n",
    "        \n",
    "    def _createMazeWalls(self):\n",
    "        \n",
    "        thickness = 1 # cm\n",
    "        \n",
    "        wall_b = Block((-thickness,-thickness), (self.size[0]+thickness, -thickness), (self.size[0]+thickness, 0), (-thickness,0))\n",
    "        wall_t = Block((-thickness, self.size[1]), (self.size[0]+thickness, self.size[1]), (self.size[0]+thickness, self.size[1]+thickness), (-thickness,self.size[1]+thickness))\n",
    "        wall_l = Block((-thickness,0), (0,0), (0, self.size[1]), (-thickness,self.size[1]))\n",
    "        wall_r = Block((self.size[0],0), (self.size[0]+thickness,0), (self.size[0]+thickness, self.size[1]), self.size)\n",
    "        \n",
    "        for wall in [wall_b, wall_t, wall_l, wall_r]:\n",
    "            self.blocks.append(wall)\n",
    "        \n",
    "    def robotIntersects(self):\n",
    "        \n",
    "        # Check with walls\n",
    "        for wall in self.blocks:\n",
    "            if self.robot.intersects(wall):\n",
    "                return True\n",
    "            \n",
    "        return False\n",
    "    \n",
    "    def show(self, size = 5):\n",
    "        \n",
    "        plot.rcParams[\"figure.figsize\"] = (size,size*self.aspect_ratio)\n",
    "        \n",
    "        # Border\n",
    "        plot.ylim(-1,self.size[1]+1)\n",
    "        plot.xlim(-1,self.size[0]+1)\n",
    "        plot.plot([\n",
    "            0, \n",
    "            self.size[0],  \n",
    "            self.size[1],  \n",
    "            0,\n",
    "            0],\n",
    "            [0,\n",
    "             0,\n",
    "             self.size[1],\n",
    "             self.size[1],\n",
    "             0\n",
    "            ], color = \"orange\", label=\"Maze\")\n",
    "        \n",
    "        # Walls\n",
    "        for block in self.blocks:\n",
    "            plot.plot(block.getX(), block.getY(), color='orange')\n",
    "            plot.fill_between(block.getX(), block.getY(), facecolor='orange')\n",
    "            \n",
    "        # Robot\n",
    "        if self.robot:\n",
    "            plot.plot(self.robot.getX(), self.robot.getY(), label=\"Robot\", color='blue')\n",
    "            \n",
    "            # Motor\n",
    "            for motor in self.robot.motors:\n",
    "                vector = motor.getVector()\n",
    "                plot.plot([p[0] for p in vector],[p[1] for p in vector], label=\"Motor\", color=\"red\")            \n",
    "            \n",
    "            # Sensors\n",
    "        \n",
    "        \n",
    "        plot.legend(bbox_to_anchor=(1.04,1), loc=\"upper left\")\n",
    "        plot.show()\n",
    "    \n",
    "    def __repr__(self):\n",
    "        self.show()\n",
    "        return 'None'"
   ]
  },
  {
   "cell_type": "code",
   "execution_count": 4,
   "metadata": {},
   "outputs": [
    {
     "data": {
      "image/png": "[encoded data removed]",
      "text/plain": [
       "<Figure size 360x360 with 1 Axes>"
      ]
     },
     "metadata": {
      "needs_background": "light"
     },
     "output_type": "display_data"
    }
   ],
   "source": [
    "block = Block((0,0), [1,0], [1,1], [0,1])\n",
    "maze = Maze(blocks=[])\n",
    "maze.show()"
   ]
  },
  {
   "cell_type": "markdown",
   "metadata": {},
   "source": [
    "## Geometry"
   ]
  },
  {
   "cell_type": "code",
   "execution_count": 10,
   "metadata": {},
   "outputs": [],
   "source": [
    "def translate(points, x, y):\n",
    "    move_x = [(p[0]+x, p[1]) for p in points]\n",
    "    move_y = [(p[0], p[1]+y) for p in move_x]\n",
    "    \n",
    "    return move_y   \n",
    "\n",
    "def centroid(points):\n",
    "    xs = [p[0] for p in points[:-1]]\n",
    "    ys = [p[1] for p in points[:-1]]\n",
    "\n",
    "    return sum(xs)/len(points), sum(ys)/len(points)\n",
    "\n",
    "def rotate(points, theta, rad=False):\n",
    "        \n",
    "    '''\n",
    "    Rotate around centroid. \n",
    "    theta in rad\n",
    "    '''\n",
    "    if not rad:\n",
    "        theta = math.radians(theta)\n",
    "\n",
    "    matrix = [\n",
    "        [cos(theta), -1*sin(theta)],\n",
    "        [sin(theta), cos(theta)]\n",
    "    ]\n",
    "\n",
    "    # 1 - Translate points\n",
    "    original_center = centroid(points)\n",
    "    points = translate(points, -original_center[0], -original_center[1])\n",
    "\n",
    "    # 2 - Rotate\n",
    "    points = [np.matmul(matrix, point) for point in points]\n",
    "\n",
    "    # 3 - Translate back\n",
    "    points = translate(points, original_center[0], original_center[1])\n",
    "\n",
    "    return points"
   ]
  },
  {
   "cell_type": "markdown",
   "metadata": {},
   "source": [
    "### Math\n",
    "http://mate.tue.nl/mate/pdfs/7566.pdf"
   ]
  },
  {
   "cell_type": "code",
   "execution_count": 129,
   "metadata": {},
   "outputs": [],
   "source": [
    "def moveRobot(wheel1_vel, wheel2_vel, wheel3_vel, wheel_radius, dist_from_center):\n",
    "    \n",
    "    '''\n",
    "    Omni directional movement\n",
    "    \n",
    "    Args:\n",
    "    - wheel1/2/3_vel = [rad/s]\n",
    "    \n",
    "    Assumes\n",
    "    - Constant wheel_sep_angle of 120.0 deg\n",
    "    - Equal dist_from_center for each motor/wheel\n",
    "    '''\n",
    "    \n",
    "#     wheel_seperation_angle = math.radians(360/3) # 120 deg\n",
    "#     theta=0.0\n",
    "#     ang_vel = [wheel1_vel*wheel_radius, wheel2_vel*wheel_radius, wheel3_vel*wheel_radius]\n",
    "    \n",
    "#     move1 = np.array([\n",
    "#         [-math.sin(math.radians(theta)), math.cos(math.radians(theta)), dist_from_center],\n",
    "#         [-math.sin(wheel_seperation_angle+math.radians(theta)), math.cos(wheel_seperation_angle+math.radians(theta)), dist_from_center],\n",
    "#         [-math.sin(wheel_seperation_angle*2+math.radians(theta)), math.cos(wheel_seperation_angle*2+math.radians(theta)), dist_from_center],\n",
    "#     ])\n",
    "    \n",
    "#     move2 = np.array([\n",
    "#         [math.cos(math.radians(theta)), 0, 0],\n",
    "#         [0, math.cos(math.radians(theta)), 0],\n",
    "#         [0, 0, 1]        \n",
    "#     ])\n",
    "    \n",
    "#     inverse1 = np.matmul(np.linalg.inv(move1), ang_vel)\n",
    "#     inverse2 = np.matmul(np.linalg.inv(move2), inverse1)\n",
    "\n",
    "# https://www.researchgate.net/publication/256089847_Dynamical_Models_for_Omni-directional_Robots_with_3_and_4_Wheels\n",
    "    v =  (3**0.5/3) * (wheel3_vel-wheel1_vel)\n",
    "    vn = (wheel3_vel+wheel1_vel)/3 - wheel2_vel*2/3\n",
    "    w = (wheel1_vel+wheel2_vel+wheel3_vel) / (3*dist_from_center)\n",
    "    \n",
    "    return v, vn, w"
   ]
  },
  {
   "cell_type": "code",
   "execution_count": 157,
   "metadata": {},
   "outputs": [
    {
     "data": {
      "text/plain": [
       "      fun: 4.577417210703693e-09\n",
       " hess_inv: <2x2 LbfgsInvHessProduct with dtype=float64>\n",
       "      jac: array([1.30673879, 1.30673879])\n",
       "  message: b'ABNORMAL_TERMINATION_IN_LNSRCH'\n",
       "     nfev: 291\n",
       "      nit: 4\n",
       "   status: 2\n",
       "  success: False\n",
       "        x: array([ 0.68965524, -0.68965524])"
      ]
     },
     "execution_count": 157,
     "metadata": {},
     "output_type": "execute_result"
    }
   ],
   "source": [
    "from scipy.optimize import minimize\n",
    "\n",
    "def objective(s):\n",
    "    x,y,t = moveRobot(s[0], 0, s[1], 0.025, 0.15)\n",
    "    return abs(t)\n",
    "\n",
    "sol = minimize(objective, x0=[1,1], bounds = [(0, None), (None,0)])\n",
    "sol"
   ]
  },
  {
   "cell_type": "code",
   "execution_count": 158,
   "metadata": {},
   "outputs": [
    {
     "data": {
      "text/plain": [
       "(-0.7963452740530211, -6.866125816055538e-10, -4.577417210703693e-09)"
      ]
     },
     "execution_count": 158,
     "metadata": {},
     "output_type": "execute_result"
    }
   ],
   "source": [
    "moveRobot(sol.x[0], 0, sol.x[1], 0.025, 0.15)"
   ]
  },
  {
   "cell_type": "code",
   "execution_count": 161,
   "metadata": {},
   "outputs": [
    {
     "data": {
      "text/plain": [
       "(2.309401076758503, 0.0, 0.0)"
      ]
     },
     "execution_count": 161,
     "metadata": {},
     "output_type": "execute_result"
    }
   ],
   "source": [
    "moveRobot(-2, 0, 2, 0.025, 0.15)"
   ]
  },
  {
   "cell_type": "markdown",
   "metadata": {},
   "source": [
    "## Sensor"
   ]
  },
  {
   "cell_type": "code",
   "execution_count": 44,
   "metadata": {},
   "outputs": [],
   "source": [
    "class Sensor:\n",
    "    \n",
    "    def __init__(self, mount_pos, mount_direction):\n",
    "        \n",
    "        self.mount_pos = mount_pos\n",
    "        self.mount_direction = mount_direction\n",
    "        self.mount_dist = mount_pos"
   ]
  },
  {
   "cell_type": "markdown",
   "metadata": {},
   "source": [
    "# Robot"
   ]
  },
  {
   "cell_type": "code",
   "execution_count": 70,
   "metadata": {},
   "outputs": [],
   "source": [
    "import numpy as np\n",
    "import math\n",
    "from math import sin, cos\n",
    "\n",
    "class Robot(Block):\n",
    "    \n",
    "    '''\n",
    "    Omni directional robot.\n",
    "    \n",
    "    Args:\n",
    "    - motors = list of Motor(s)\n",
    "    - sensors = list of Sensor(s)\n",
    "    '''\n",
    "    \n",
    "    def __init__(self, size, origin = (0,0), wheel_radi = 1, wheel_dist = 1, speed_coeff=1, distance_sensors = []):\n",
    "        \n",
    "        super().__init__([0,0], [size[0], 0], [size[0], size[1]], [0, size[1]])\n",
    "        self.size = size #x,y\n",
    "        self.motors = motors\n",
    "        self.distance_sensors = distance_sensors\n",
    "        self.centroid = self.calcCentroid()\n",
    "        self._points = self.points\n",
    "        self.translate(origin[0], origin[1])\n",
    "    \n",
    "    @property\n",
    "    def points(self):\n",
    "        return self._points\n",
    "\n",
    "    @points.setter\n",
    "    def points(self, val):\n",
    "        self._points = val\n",
    "        self.calcCentroid()\n",
    "        \n",
    "        # Move shit\n",
    "        \n",
    "    \n",
    "    def getOrigin(self):\n",
    "        return self.points[0]\n",
    "    \n",
    "    def calcCentroid(self):\n",
    "        self.centroid = centroid(self.points)\n",
    "    \n",
    "    def translate(self, translate_x, translate_y, set_points = True):\n",
    "        \n",
    "        points = translate(self.points, translate_x, translate_y)\n",
    "        \n",
    "        if set_points:\n",
    "            self.points = points\n",
    "        \n",
    "        return points\n",
    "    \n",
    "    def rotate(self, theta, rad=False):\n",
    "        \n",
    "        self.points = rotate(self.points, theta, rad)\n",
    "        \n",
    "        return self.points"
   ]
  },
  {
   "cell_type": "code",
   "execution_count": 49,
   "metadata": {},
   "outputs": [],
   "source": [
    "block1 = Block((0,3), [10,3], [10,4], [0,4])\n",
    "block2 = Block((0,6), [10,6], [10,7], [0,7])\n",
    "maze = Maze(size = (10,10), blocks=[block1, block2])"
   ]
  },
  {
   "cell_type": "code",
   "execution_count": 50,
   "metadata": {},
   "outputs": [
    {
     "name": "stdout",
     "output_type": "stream",
     "text": [
      "0.0\n",
      "[(1.0, 1.0), (2.0, 1.0)]\n"
     ]
    },
    {
     "data": {
      "image/png": "[encoded data removed]",
      "text/plain": [
       "<Figure size 360x360 with 1 Axes>"
      ]
     },
     "metadata": {
      "needs_background": "light"
     },
     "output_type": "display_data"
    }
   ],
   "source": [
    "motor1 = Motor(mount_pos=(1,1), mount_direction=(1,0))\n",
    "maze.robot = Robot((2,2), motors=[motor1])\n",
    "maze.show()"
   ]
  },
  {
   "cell_type": "code",
   "execution_count": 10,
   "metadata": {},
   "outputs": [
    {
     "name": "stdout",
     "output_type": "stream",
     "text": [
      "[(1, 1), (2, 1)]\n"
     ]
    },
    {
     "data": {
      "image/png": "[encoded data removed]",
      "text/plain": [
       "<Figure size 360x360 with 1 Axes>"
      ]
     },
     "metadata": {
      "needs_background": "light"
     },
     "output_type": "display_data"
    }
   ],
   "source": [
    "maze.robot.rotate(45)\n",
    "maze.show()"
   ]
  }
 ],
 "metadata": {
  "kernelspec": {
   "display_name": "Python 3",
   "language": "python",
   "name": "python3"
  },
  "language_info": {
   "codemirror_mode": {
    "name": "ipython",
    "version": 3
   },
   "file_extension": ".py",
   "mimetype": "text/x-python",
   "name": "python",
   "nbconvert_exporter": "python",
   "pygments_lexer": "ipython3",
   "version": "3.7.4"
  },
  "toc": {
   "base_numbering": 1,
   "nav_menu": {},
   "number_sections": true,
   "sideBar": true,
   "skip_h1_title": false,
   "title_cell": "Table of Contents",
   "title_sidebar": "Contents",
   "toc_cell": false,
   "toc_position": {},
   "toc_section_display": true,
   "toc_window_display": false
  }
 },
 "nbformat": 4,
 "nbformat_minor": 2
}
