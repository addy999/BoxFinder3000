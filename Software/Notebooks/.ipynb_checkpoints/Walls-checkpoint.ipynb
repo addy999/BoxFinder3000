{
 "cells": [
  {
   "cell_type": "code",
   "execution_count": 32,
   "metadata": {},
   "outputs": [],
   "source": [
    "%matplotlib inline\n",
    "from matplotlib import pyplot as plot\n",
    "from matplotlib import figure "
   ]
  },
  {
   "cell_type": "markdown",
   "metadata": {},
   "source": [
    "# Maze"
   ]
  },
  {
   "cell_type": "markdown",
   "metadata": {},
   "source": [
    "### Distance Units: cm"
   ]
  },
  {
   "cell_type": "code",
   "execution_count": 237,
   "metadata": {},
   "outputs": [],
   "source": [
    "class Block:\n",
    "    \n",
    "    def __init__(self, bottom_left, bottom_right, top_right, top_left):\n",
    "        self.points = [\n",
    "            bottom_left,\n",
    "            bottom_right,\n",
    "            top_right,\n",
    "            top_left,\n",
    "            bottom_left\n",
    "        ]\n",
    "    \n",
    "    def intersects(self, other_block):\n",
    "\n",
    "        if min(self.getX()) > max(other_block.getX()) or max(self.getX()) < min(other_block.getX()):\n",
    "            return False\n",
    "\n",
    "        if min(self.getY()) > max(other_block.getY()) or max(self.getY()) < min(other_block.getY()):\n",
    "            return False\n",
    "\n",
    "        else:\n",
    "            return True        \n",
    "    \n",
    "    def getX(self):\n",
    "        \n",
    "        return [p[0] for p in self.points]\n",
    "    \n",
    "    def getY(self):\n",
    "        \n",
    "        return [p[1] for p in self.points]\n",
    "        \n",
    "class Maze:\n",
    "    \n",
    "    def __init__(self, size = (10,10), blocks = [], robot = None):\n",
    "        \n",
    "        self.size = size\n",
    "        self.aspect_ratio = self.size[1] / self.size[0]\n",
    "        self.blocks = blocks\n",
    "        self.robot = robot\n",
    "        self._createMazeWalls()\n",
    "        \n",
    "    def _createMazeWalls(self):\n",
    "        \n",
    "        thickness = 1 # cm\n",
    "        \n",
    "        wall_b = Block((-thickness,-thickness), (self.size[0]+thickness, -thickness), (self.size[0]+thickness, 0), (-thickness,0))\n",
    "        wall_t = Block((-thickness, self.size[1]), (self.size[0]+thickness, self.size[1]), (self.size[0]+thickness, self.size[1]+thickness), (-thickness,self.size[1]+thickness))\n",
    "        wall_l = Block((-thickness,0), (0,0), (0, self.size[1]), (-thickness,self.size[1]))\n",
    "        wall_r = Block((self.size[0],0), (self.size[0]+thickness,0), (self.size[0]+thickness, self.size[1]), self.size)\n",
    "        \n",
    "        for wall in [wall_b, wall_t, wall_l, wall_r]:\n",
    "            self.blocks.append(wall)\n",
    "        \n",
    "    def robotIntersects(self):\n",
    "        \n",
    "        # Check with walls\n",
    "        for wall in self.blocks:\n",
    "            if self.robot.intersects(wall):\n",
    "                return True\n",
    "            \n",
    "        return False\n",
    "    \n",
    "    def show(self, size = 5):\n",
    "        \n",
    "        plot.rcParams[\"figure.figsize\"] = (size,size*self.aspect_ratio)\n",
    "        \n",
    "        # Border\n",
    "        plot.ylim(-1,self.size[1]+1)\n",
    "        plot.xlim(-1,self.size[0]+1)\n",
    "        plot.plot([\n",
    "            0, \n",
    "            self.size[0],  \n",
    "            self.size[1],  \n",
    "            0,\n",
    "            0],\n",
    "            [0,\n",
    "             0,\n",
    "             self.size[1],\n",
    "             self.size[1],\n",
    "             0\n",
    "            ], color = \"orange\", label=\"Maze\")\n",
    "        \n",
    "        # Walls\n",
    "        for block in self.blocks:\n",
    "            plot.plot(block.getX(), block.getY(), color='orange')\n",
    "            plot.fill_between(block.getX(), block.getY(), facecolor='orange')\n",
    "            \n",
    "        # Robot\n",
    "        if self.robot:\n",
    "            plot.plot(self.robot.getX(), self.robot.getY(), label=\"Robot\", color='blue')\n",
    "        \n",
    "        \n",
    "        plot.legend(bbox_to_anchor=(1.04,1), loc=\"upper left\")\n",
    "        plot.show()\n",
    "    \n",
    "    def __repr__(self):\n",
    "        self.show()\n",
    "        return 'None'"
   ]
  },
  {
   "cell_type": "code",
   "execution_count": 238,
   "metadata": {},
   "outputs": [
    {
     "data": {
      "image/png": "[encoded data removed]",
      "text/plain": [
       "<Figure size 360x360 with 1 Axes>"
      ]
     },
     "metadata": {},
     "output_type": "display_data"
    }
   ],
   "source": [
    "block = Block((0,0), [1,0], [1,1], [0,1])\n",
    "maze = Maze(blocks=[])\n",
    "maze.show()"
   ]
  },
  {
   "cell_type": "markdown",
   "metadata": {},
   "source": [
    "# Robot"
   ]
  },
  {
   "cell_type": "code",
   "execution_count": 239,
   "metadata": {},
   "outputs": [],
   "source": [
    "class Robot(Block):\n",
    "    \n",
    "    def __init__(self, size, origin = (0,0), motors = [], distance_sensors = []):\n",
    "        \n",
    "        super().__init__([0,0], [size[0], 0], [size[0], size[1]], [0, size[1]])\n",
    "        self.size = size\n",
    "        self.motors = motors\n",
    "        self.distance_sensors = distance_sensors\n",
    "        self.translate(origin)\n",
    "    \n",
    "    def translate(self, new_origin):\n",
    "        move_x = [(p[0]+new_origin[0], p[1]) for p in self.points]\n",
    "        move_y = [(p[0], p[1]+new_origin[1]) for p in move_x]\n",
    "        \n",
    "        self.points = move_y"
   ]
  },
  {
   "cell_type": "code",
   "execution_count": 240,
   "metadata": {},
   "outputs": [],
   "source": [
    "block1 = Block((0,3), [10,3], [10,4], [0,4])\n",
    "block2 = Block((0,6), [10,6], [10,7], [0,7])\n",
    "\n",
    "maze = Maze(size = (10,10), blocks=[block1, block2])"
   ]
  },
  {
   "cell_type": "markdown",
   "metadata": {},
   "source": [
    "### Intersections"
   ]
  },
  {
   "cell_type": "code",
   "execution_count": 241,
   "metadata": {},
   "outputs": [
    {
     "data": {
      "image/png": "[encoded data removed]",
      "text/plain": [
       "<Figure size 360x360 with 1 Axes>"
      ]
     },
     "metadata": {},
     "output_type": "display_data"
    },
    {
     "name": "stdout",
     "output_type": "stream",
     "text": [
      "True\n"
     ]
    }
   ],
   "source": [
    "robo = Robot((4,1), origin=(3,5.5))\n",
    "maze.robot = robo\n",
    "maze.show()\n",
    "print(maze.robotIntersects())"
   ]
  },
  {
   "cell_type": "code",
   "execution_count": 242,
   "metadata": {},
   "outputs": [
    {
     "name": "stdout",
     "output_type": "stream",
     "text": [
      "[(3, 7.5), (7, 7.5), (7, 8.5), (3, 8.5), (3, 7.5)]\n"
     ]
    },
    {
     "data": {
      "image/png": "[encoded data removed]",
      "text/plain": [
       "<Figure size 360x360 with 1 Axes>"
      ]
     },
     "metadata": {},
     "output_type": "display_data"
    },
    {
     "name": "stdout",
     "output_type": "stream",
     "text": [
      "False\n"
     ]
    }
   ],
   "source": [
    "maze.robot.translate((0,2))\n",
    "print(maze.robot.points)\n",
    "maze.show()\n",
    "print(maze.robotIntersects())"
   ]
  },
  {
   "cell_type": "markdown",
   "metadata": {},
   "source": [
    "### Move"
   ]
  },
  {
   "cell_type": "code",
   "execution_count": null,
   "metadata": {},
   "outputs": [],
   "source": []
  },
  {
   "cell_type": "markdown",
   "metadata": {},
   "source": [
    "## Sensor"
   ]
  },
  {
   "cell_type": "code",
   "execution_count": 243,
   "metadata": {},
   "outputs": [],
   "source": [
    "class Sensor:\n",
    "    \n",
    "    def __init__(self, mount_pos, mount_direction):\n",
    "        \n",
    "        self.mount_pos = mount_pos\n",
    "        self.mount_direction = mount_direction"
   ]
  }
 ],
 "metadata": {
  "kernelspec": {
   "display_name": "Python 3",
   "language": "python",
   "name": "python3"
  },
  "language_info": {
   "codemirror_mode": {
    "name": "ipython",
    "version": 3
   },
   "file_extension": ".py",
   "mimetype": "text/x-python",
   "name": "python",
   "nbconvert_exporter": "python",
   "pygments_lexer": "ipython3",
   "version": "3.7.0"
  },
  "toc": {
   "base_numbering": 1,
   "nav_menu": {},
   "number_sections": true,
   "sideBar": true,
   "skip_h1_title": false,
   "title_cell": "Table of Contents",
   "title_sidebar": "Contents",
   "toc_cell": false,
   "toc_position": {},
   "toc_section_display": true,
   "toc_window_display": false
  }
 },
 "nbformat": 4,
 "nbformat_minor": 2
}
