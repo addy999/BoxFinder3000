{
 "cells": [
  {
   "cell_type": "markdown",
   "metadata": {},
   "source": [
    "# Create matrix"
   ]
  },
  {
   "cell_type": "code",
   "execution_count": 1,
   "metadata": {},
   "outputs": [],
   "source": [
    "import numpy as np"
   ]
  },
  {
   "cell_type": "code",
   "execution_count": 37,
   "metadata": {},
   "outputs": [],
   "source": [
    "step = 1 # inches\n",
    "spacing = 12 / step\n",
    "matrix = np.zeros((int(4 * spacing), int(8 * spacing)))"
   ]
  },
  {
   "cell_type": "code",
   "execution_count": 38,
   "metadata": {},
   "outputs": [],
   "source": [
    "# fill the sides\n",
    "rows, cols = matrix.shape\n",
    "## top and bottom\n",
    "for i in range(cols):\n",
    "    matrix[0][i] = 1\n",
    "    matrix[-1][i] = 1    \n",
    "## left and right sides\n",
    "for row in range(rows):\n",
    "    matrix[row][0] = 1\n",
    "    matrix[row][-1] = 1"
   ]
  },
  {
   "cell_type": "code",
   "execution_count": 39,
   "metadata": {},
   "outputs": [
    {
     "data": {
      "text/plain": [
       "array([[1., 1., 1., ..., 1., 1., 1.],\n",
       "       [1., 0., 0., ..., 0., 0., 1.],\n",
       "       [1., 0., 0., ..., 0., 0., 1.],\n",
       "       ...,\n",
       "       [1., 0., 0., ..., 0., 0., 1.],\n",
       "       [1., 0., 0., ..., 0., 0., 1.],\n",
       "       [1., 1., 1., ..., 1., 1., 1.]])"
      ]
     },
     "execution_count": 39,
     "metadata": {},
     "output_type": "execute_result"
    }
   ],
   "source": [
    "matrix"
   ]
  },
  {
   "cell_type": "code",
   "execution_count": 61,
   "metadata": {},
   "outputs": [],
   "source": [
    "# fill in blocks\n",
    "def fillInBlocks(matrix, spacing, row_min, row_max, col_min, col_max):\n",
    "    for row in range(int(row_min * spacing), np.clip(int(row_max * spacing+1), 0, matrix.shape[0])):\n",
    "        for col in range(int(col_min*spacing), np.clip(int(col_max*spacing+1), 0, matrix.shape[1])):\n",
    "            matrix[row][col] = 1\n",
    "    \n",
    "    return matrix"
   ]
  },
  {
   "cell_type": "code",
   "execution_count": 68,
   "metadata": {},
   "outputs": [
    {
     "name": "stdout",
     "output_type": "stream",
     "text": [
      "CPU times: user 5.8 ms, sys: 0 ns, total: 5.8 ms\n",
      "Wall time: 5.58 ms\n"
     ]
    }
   ],
   "source": [
    "%%time\n",
    "matrix = fillInBlocks(matrix, spacing, 0, 2, 1, 2)\n",
    "matrix = fillInBlocks(matrix, spacing, 3, 4, 1, 2)\n",
    "matrix = fillInBlocks(matrix, spacing, 3, 4, 3, 4)\n",
    "matrix = fillInBlocks(matrix, spacing, 1, 2, 3, 5)\n",
    "matrix = fillInBlocks(matrix, spacing, 2, 3, 5, 6)\n",
    "matrix = fillInBlocks(matrix, spacing, 1, 2, 6, 7)"
   ]
  },
  {
   "cell_type": "code",
   "execution_count": 73,
   "metadata": {},
   "outputs": [],
   "source": [
    "# matrix[:int(3*spacing+1), int(5*spacing):int(6*spacing+1)]"
   ]
  },
  {
   "cell_type": "markdown",
   "metadata": {},
   "source": [
    "# Calc distances to any direction"
   ]
  },
  {
   "cell_type": "code",
   "execution_count": 29,
   "metadata": {},
   "outputs": [
    {
     "data": {
      "text/html": [
       "<img src=\"./maze.png\" width=\"400\"/>"
      ],
      "text/plain": [
       "<IPython.core.display.Image object>"
      ]
     },
     "execution_count": 29,
     "metadata": {},
     "output_type": "execute_result"
    }
   ],
   "source": [
    "from IPython.display import Image\n",
    "from IPython.core.display import HTML \n",
    "Image(url= \"./maze.png\" ,width=400)"
   ]
  },
  {
   "cell_type": "code",
   "execution_count": 88,
   "metadata": {},
   "outputs": [],
   "source": [
    "def findDist(matrix, step, spot, direction):\n",
    "    x_dir = direction[0]\n",
    "    y_dir = direction[1]\n",
    "    wall_found = False\n",
    "    traversed = 0\n",
    "    \n",
    "    row, col = spot\n",
    "    \n",
    "    while not wall_found:\n",
    "        row += y_dir\n",
    "        col += x_dir\n",
    "        traversed += step\n",
    "        \n",
    "        if matrix[row, col] == 1:\n",
    "            wall_found = True\n",
    "            \n",
    "    return traversed"
   ]
  },
  {
   "cell_type": "code",
   "execution_count": 92,
   "metadata": {},
   "outputs": [
    {
     "data": {
      "text/plain": [
       "6"
      ]
     },
     "execution_count": 92,
     "metadata": {},
     "output_type": "execute_result"
    }
   ],
   "source": [
    "findDist(matrix, step, (30,18), (1,1))"
   ]
  },
  {
   "cell_type": "code",
   "execution_count": 97,
   "metadata": {},
   "outputs": [
    {
     "data": {
      "text/plain": [
       "1"
      ]
     },
     "execution_count": 97,
     "metadata": {},
     "output_type": "execute_result"
    }
   ],
   "source": [
    "findDist(matrix, step, (0,0), (0,-1))"
   ]
  },
  {
   "cell_type": "markdown",
   "metadata": {},
   "source": [
    "# Create sensor matrix"
   ]
  },
  {
   "cell_type": "code",
   "execution_count": null,
   "metadata": {},
   "outputs": [],
   "source": []
  }
 ],
 "metadata": {
  "kernelspec": {
   "display_name": "Python 3",
   "language": "python",
   "name": "python3"
  },
  "language_info": {
   "codemirror_mode": {
    "name": "ipython",
    "version": 3
   },
   "file_extension": ".py",
   "mimetype": "text/x-python",
   "name": "python",
   "nbconvert_exporter": "python",
   "pygments_lexer": "ipython3",
   "version": "3.6.8"
  }
 },
 "nbformat": 4,
 "nbformat_minor": 2
}
